{
  "nbformat": 4,
  "nbformat_minor": 0,
  "metadata": {
    "colab": {
      "name": "DataFreame.ipynb",
      "provenance": [],
      "collapsed_sections": []
    },
    "kernelspec": {
      "name": "python3",
      "display_name": "Python 3"
    },
    "language_info": {
      "name": "python"
    }
  },
  "cells": [
    {
      "cell_type": "markdown",
      "metadata": {
        "id": "yjd2prqMe80Q"
      },
      "source": [
        "# **What is Machine Learning ?**\n",
        "\n",
        "Machine learning is an application of artificial intelligence (AI) that provides systems the ability to automatically learn and improve from experience without being explicitly programmed. Machine learning focuses on the development of computer programs that can access data and use it to learn for themselves"
      ]
    },
    {
      "cell_type": "markdown",
      "metadata": {
        "id": "TnyLr4NpfOGe"
      },
      "source": [
        "## **Python Libraries for Machine Learning**\n",
        "\n",
        "*   Pandas\n",
        "*   Numpy\n",
        "\n",
        "*   Scikit Learn\n",
        "*   Matplotib\n",
        "\n",
        "\n",
        "*   Seaborn\n",
        "\n",
        "\n",
        "\n",
        "\n",
        "\n"
      ]
    },
    {
      "cell_type": "markdown",
      "metadata": {
        "id": "A7yHGknlglAf"
      },
      "source": [
        "## **Pandas-**\n",
        "\n",
        "Pandas is a Python library used for working with data sets.\n",
        "It has functions for analyzing, cleaning, exploring, and manipulating data.\n",
        "The name \"Pandas\" has a reference to both \"Panel Data\", and \"Python Data Analysis\" and was created by Wes McKinney in 2008.Pandas allows us to analyze big data and make conclusions based on statistical theories.\n",
        "Pandas can clean messy data sets, and make them readable and relevant.Relevant data is very important in data science. \n",
        "\n",
        "### **Command to install pandas-** pip install pandas\n",
        "\n",
        "*   Open source\n",
        "\n",
        "*   It is built nummpy library\n",
        "*   Importing data and analyzing data easily\n",
        "\n",
        "*   It is extremly fast library\n",
        "\n"
      ]
    },
    {
      "cell_type": "markdown",
      "metadata": {
        "id": "n2eU0WQmi149"
      },
      "source": [
        "## Basic actions of Pandas-\n",
        "\n",
        "\n",
        "\n",
        "*   Dataframes\n",
        "\n",
        "*   Pandas series\n",
        "*   Read .csv file\n",
        "\n",
        "\n",
        "*   Read JSON\n",
        "\n",
        "\n",
        "*   Analyze data\n",
        "\n",
        "\n",
        "\n"
      ]
    },
    {
      "cell_type": "markdown",
      "metadata": {
        "id": "b4Fnnp1ekecN"
      },
      "source": [
        "### DataFrame-\n",
        "\n",
        "A Pandas DataFrame is a 2 dimensional data structure, like a 2 dimensional array, or a table with rows and columns. It has label axis(row,column).\n",
        "### **Components of DataFrame-**\n",
        "\n",
        "1. Row\n",
        "2. Column\n",
        "3. Data\n",
        "\n",
        "\n",
        "\n"
      ]
    },
    {
      "cell_type": "markdown",
      "metadata": {
        "id": "ZNeo0DJ4lbi3"
      },
      "source": [
        "## Creating DataFrame-\n",
        "\n"
      ]
    },
    {
      "cell_type": "code",
      "metadata": {
        "colab": {
          "base_uri": "https://localhost:8080/",
          "height": 228
        },
        "id": "qyKCmwuIlwF9",
        "outputId": "54bf7d7b-c123-41c7-a8b9-fc460c1724e2"
      },
      "source": [
        "# Using List \n",
        "import pandas as pd\n",
        "list=[\"Anurag\",\"kashyap\",\"Anupret\",\"Mishra\",\"Ankit\",\"Rai\"]\n",
        "df=pd.DataFrame(list)\n",
        "df"
      ],
      "execution_count": 19,
      "outputs": [
        {
          "output_type": "execute_result",
          "data": {
            "text/html": [
              "<div>\n",
              "<style scoped>\n",
              "    .dataframe tbody tr th:only-of-type {\n",
              "        vertical-align: middle;\n",
              "    }\n",
              "\n",
              "    .dataframe tbody tr th {\n",
              "        vertical-align: top;\n",
              "    }\n",
              "\n",
              "    .dataframe thead th {\n",
              "        text-align: right;\n",
              "    }\n",
              "</style>\n",
              "<table border=\"1\" class=\"dataframe\">\n",
              "  <thead>\n",
              "    <tr style=\"text-align: right;\">\n",
              "      <th></th>\n",
              "      <th>0</th>\n",
              "    </tr>\n",
              "  </thead>\n",
              "  <tbody>\n",
              "    <tr>\n",
              "      <th>0</th>\n",
              "      <td>Anurag</td>\n",
              "    </tr>\n",
              "    <tr>\n",
              "      <th>1</th>\n",
              "      <td>kashyap</td>\n",
              "    </tr>\n",
              "    <tr>\n",
              "      <th>2</th>\n",
              "      <td>Anupret</td>\n",
              "    </tr>\n",
              "    <tr>\n",
              "      <th>3</th>\n",
              "      <td>Mishra</td>\n",
              "    </tr>\n",
              "    <tr>\n",
              "      <th>4</th>\n",
              "      <td>Ankit</td>\n",
              "    </tr>\n",
              "    <tr>\n",
              "      <th>5</th>\n",
              "      <td>Rai</td>\n",
              "    </tr>\n",
              "  </tbody>\n",
              "</table>\n",
              "</div>"
            ],
            "text/plain": [
              "         0\n",
              "0   Anurag\n",
              "1  kashyap\n",
              "2  Anupret\n",
              "3   Mishra\n",
              "4    Ankit\n",
              "5      Rai"
            ]
          },
          "metadata": {
            "tags": []
          },
          "execution_count": 19
        }
      ]
    },
    {
      "cell_type": "code",
      "metadata": {
        "colab": {
          "base_uri": "https://localhost:8080/",
          "height": 138
        },
        "id": "m8ZseC7umthO",
        "outputId": "66421f84-13d2-4fa7-b6c5-bd59f826612a"
      },
      "source": [
        "# Using Dictionary\n",
        "dic={\"Name\":[\"Anurag\",\"Ankit\",\"Anupreet\"],\"Age\":[18,17,22]}\n",
        "df=pd.DataFrame(dic)\n",
        "df"
      ],
      "execution_count": 22,
      "outputs": [
        {
          "output_type": "execute_result",
          "data": {
            "text/html": [
              "<div>\n",
              "<style scoped>\n",
              "    .dataframe tbody tr th:only-of-type {\n",
              "        vertical-align: middle;\n",
              "    }\n",
              "\n",
              "    .dataframe tbody tr th {\n",
              "        vertical-align: top;\n",
              "    }\n",
              "\n",
              "    .dataframe thead th {\n",
              "        text-align: right;\n",
              "    }\n",
              "</style>\n",
              "<table border=\"1\" class=\"dataframe\">\n",
              "  <thead>\n",
              "    <tr style=\"text-align: right;\">\n",
              "      <th></th>\n",
              "      <th>Name</th>\n",
              "      <th>Age</th>\n",
              "    </tr>\n",
              "  </thead>\n",
              "  <tbody>\n",
              "    <tr>\n",
              "      <th>0</th>\n",
              "      <td>Anurag</td>\n",
              "      <td>18</td>\n",
              "    </tr>\n",
              "    <tr>\n",
              "      <th>1</th>\n",
              "      <td>Ankit</td>\n",
              "      <td>17</td>\n",
              "    </tr>\n",
              "    <tr>\n",
              "      <th>2</th>\n",
              "      <td>Anupreet</td>\n",
              "      <td>22</td>\n",
              "    </tr>\n",
              "  </tbody>\n",
              "</table>\n",
              "</div>"
            ],
            "text/plain": [
              "       Name  Age\n",
              "0    Anurag   18\n",
              "1     Ankit   17\n",
              "2  Anupreet   22"
            ]
          },
          "metadata": {
            "tags": []
          },
          "execution_count": 22
        }
      ]
    }
  ]
}